{
 "cells": [
  {
   "cell_type": "code",
   "execution_count": 1,
   "metadata": {},
   "outputs": [
    {
     "name": "stdout",
     "output_type": "stream",
     "text": [
      "How many k 188\n"
     ]
    },
    {
     "name": "stderr",
     "output_type": "stream",
     "text": [
      "Loop 1: 100%|██████████| 188/188 [00:00<00:00, 2021869.62it/s]\n",
      "Loop 2 (long): 100%|██████████| 188/188 [00:00<00:00, 869.75it/s]\n"
     ]
    }
   ],
   "source": [
    "import numpy as np # Library for multi-dimensional arrays and math operations on them \n",
    "import pandas as pd # Library for data manipulation and analysis\n",
    "import os # Interfacing python with the operating system\n",
    "import matplotlib.pyplot as plt #Plotting library\n",
    "import seaborn as sns #Plotting library with some statistical tools \n",
    "import nltk # Natural Language Processing toolkit, similar as textblob below, both have useful functions\n",
    "from textblob import TextBlob\n",
    "import string\n",
    "import time\n",
    "import re # Basically a string processing and manipulation library\n",
    "from datetime import datetime ## Manipulating datetime inputs\n",
    "from matplotlib.ticker import FuncFormatter\n",
    "import glob\n",
    "import matplotlib.pylab as pl\n",
    "from ovito.io import import_file, export_file\n",
    "from numba import njit\n",
    "from tqdm import tqdm\n",
    "from hoomd_utils import * ## custom functions\n",
    "\n",
    "###### Data import ##########\n",
    "os.chdir('/media/manosver/Elements/ManosVer/Denpols_extra/G3_N1000/RUN_1')\n",
    "global to_store, nk, kgrid,knorm, nkbins,Sskarr,Ssktrans,Sskbb,dr,Lmax,nbins,c_r,cr_bb,Nth,btheta,jj,totrep,mygen,Lbackbone,mybox,nparticles\n",
    "filename = './traj_1.gsd'\n",
    "to_store = 'results_' +filename[2:-4]\n",
    "if os.path.isdir(to_store)==False:\n",
    "    os.mkdir(to_store)\n",
    "pipeline=import_file(filename)\n",
    "data = pipeline.source.compute()\n",
    "################################\n",
    "\n",
    "### For analysis of structure factor ####\n",
    "_sk = ctypes.CDLL('/home/manosver/Documents/GitHub/emmver/Denpols/struc_fact/libsk.so')\n",
    "_sk.calc_sk.argtypes = (ctypes.c_void_p, ctypes.c_void_p, ctypes.c_void_p, ctypes.c_int, ctypes.c_int)\n",
    "\n",
    "nk = int(np.log(10./0.001)/np.log(1.05)); print (\"How many k\",nk)\n",
    "kgrid, knorm, nkbins= generate_kgrid_rand(nk, 0.001, 1.05)\n",
    "\n",
    "Sskarr = np.zeros((nkbins),dtype = np.double)\n",
    "Ssktrans = np.zeros((nkbins),dtype = np.double)\n",
    "\n",
    "Sskbb = np.zeros((nkbins),dtype = np.double)\n",
    "\n",
    "dr = 0.1;Lmax = 200.;nbins=int(Lmax/dr)\n",
    "c_r = np.zeros((nbins), dtype = float)\n",
    "cr_bb = np.zeros((nbins), dtype = float)\n",
    "\n",
    "jj = -1\n",
    "totrep = 0\n",
    "mygen = 3\n",
    "Lbackbone = 1000\n",
    "mybox = data.cell[0,0]\n",
    "#########################################################################\n",
    "\n",
    "### My plotting style is inputted here #####\n",
    "import matplotlib as mpl\n",
    "mpl.rcParams['figure.dpi'] = 150\n",
    "plt.rcParams[\"font.family\"] = \"Ubuntu\"\n",
    "plt.style.use('~/plotstyle.mplstyle')\n",
    "plt.rcParams['axes.linewidth'] = 4\n",
    "plt.rcParams['xtick.major.size'] = 8 \n",
    "plt.rcParams['ytick.major.size'] = 8 \n",
    "plt.rcParams['xtick.labelsize']=20\n",
    "plt.rcParams['ytick.labelsize']=20\n",
    "plt.rcParams['xtick.minor.visible']=True\n",
    "plt.rcParams['ytick.minor.visible']=True\n",
    "plt.rcParams['xtick.minor.size'] = 5 \n",
    "plt.rcParams['ytick.minor.size'] = 5\n",
    "plt.rcParams['xtick.minor.width'] = 1.5\n",
    "plt.rcParams['ytick.minor.width'] = 1.5\n",
    "plt.rcParams['xtick.major.width'] = 2\n",
    "plt.rcParams['ytick.major.width'] = 2\n",
    "plt.rcParams['xtick.major.pad']='8'\n",
    "plt.rcParams['ytick.major.pad']='8'\n",
    "#############################################\n",
    "\n",
    "\n",
    "\n",
    "\n",
    "\n"
   ]
  },
  {
   "cell_type": "code",
   "execution_count": 2,
   "metadata": {},
   "outputs": [
    {
     "name": "stderr",
     "output_type": "stream",
     "text": [
      "  4%|▍         | 14/354 [03:15<1:17:57, 13.76s/it]"
     ]
    }
   ],
   "source": [
    "rgsq=[]\n",
    "lambda_1=[]\n",
    "lambda_2=[]\n",
    "lambda_3=[]\n",
    "jj = -1\n",
    "totrep = 0\n",
    "for frame_index in tqdm(range(pipeline.source.num_frames)):\n",
    "    #print(\"frame:\",frame_index)\n",
    "    data = pipeline.source.compute(frame_index)\n",
    "    pos=data.particles.positions[:]\n",
    "    r2=rg_tens(pos)\n",
    "    rgsq.append(r2[0,0]+r2[1,1]+r2[2,2])\n",
    "    lambda_1.append(r2[0,0])\n",
    "    lambda_2.append(r2[1,1])\n",
    "    lambda_3.append(r2[2,2])\n",
    "    analyze_sk(data,Sskarr,mybox,Sskbb,kgrid,nkbins,_sk,Lbackbone)\n",
    "    totrep+=1\n",
    "norm_sk(totrep,Sskarr,mybox, Sskbb, knorm,nkbins,mygen,Lbackbone,pos[:][:,0].size)\n",
    "\n",
    "\n",
    "gyr_tens=np.vstack([np.array(rgsq),np.array(lambda_1),np.array(lambda_2),np.array(lambda_3)])\n",
    "plot_shape(pipeline.source.num_frames,gyr_tens)\n"
   ]
  },
  {
   "cell_type": "code",
   "execution_count": null,
   "metadata": {},
   "outputs": [],
   "source": []
  },
  {
   "cell_type": "code",
   "execution_count": null,
   "metadata": {},
   "outputs": [],
   "source": []
  },
  {
   "cell_type": "code",
   "execution_count": null,
   "metadata": {},
   "outputs": [],
   "source": []
  }
 ],
 "metadata": {
  "interpreter": {
   "hash": "fd69f43f58546b570e94fd7eba7b65e6bcc7a5bbc4eab0408017d18902915d69"
  },
  "kernelspec": {
   "display_name": "Python 3.7.12 64-bit",
   "name": "python3"
  },
  "language_info": {
   "codemirror_mode": {
    "name": "ipython",
    "version": 3
   },
   "file_extension": ".py",
   "mimetype": "text/x-python",
   "name": "python",
   "nbconvert_exporter": "python",
   "pygments_lexer": "ipython3",
   "version": "3.7.12"
  },
  "orig_nbformat": 4
 },
 "nbformat": 4,
 "nbformat_minor": 2
}
